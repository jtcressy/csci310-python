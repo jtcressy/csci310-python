{
 "cells": [
  {
   "cell_type": "markdown",
   "metadata": {},
   "source": [
    "## Spongebob Mocking String Generator\n",
    "![spOnGEbob mOckInG STriNg geNeRAtor](https://cdn.discordapp.com/attachments/364850020010426369/389941663516065804/sb.jpg)"
   ]
  },
  {
   "cell_type": "markdown",
   "metadata": {},
   "source": [
    "### Specification\n",
    "- Of all letters in the string, at least 1/3 uppercase AND at least 1/3 lowercase"
   ]
  },
  {
   "cell_type": "code",
   "execution_count": 1,
   "metadata": {},
   "outputs": [],
   "source": [
    "def isValid(x: str) -> bool:\n",
    "    return (\n",
    "        sum(1 for c in x if c.islower())/len(x) > 0.33\n",
    "        and sum(1 for c in x if c.isupper())/len(x) > 0.33\n",
    "    )"
   ]
  },
  {
   "cell_type": "code",
   "execution_count": 2,
   "metadata": {},
   "outputs": [],
   "source": [
    "def generate(inputstr: str) -> str:\n",
    "    import random\n",
    "    upper_or_lower = [lambda x: x.upper(), lambda x: x.lower()]\n",
    "    output = ''.join([random.choice(upper_or_lower)(char) for char in inputstr])\n",
    "    return output if isValid(output) else generate(inputstr)"
   ]
  },
  {
   "cell_type": "markdown",
   "metadata": {},
   "source": [
    "If the generated string is not valid based on the spec, re-generate until it passes validation. (Caution: generated string MUST have possibility of being validated, otherwise infinite loop may occur.)"
   ]
  },
  {
   "cell_type": "code",
   "execution_count": 7,
   "metadata": {},
   "outputs": [
    {
     "data": {
      "text/plain": [
       "'sPONgEBoB mOCK strIng GENEraTOr'"
      ]
     },
     "execution_count": 7,
     "metadata": {},
     "output_type": "execute_result"
    }
   ],
   "source": [
    "generate(\"spongebob mock string generator\")"
   ]
  },
  {
   "cell_type": "code",
   "execution_count": 4,
   "metadata": {},
   "outputs": [
    {
     "data": {
      "text/plain": [
       "True"
      ]
     },
     "execution_count": 4,
     "metadata": {},
     "output_type": "execute_result"
    }
   ],
   "source": [
    "isValid(generate(\"spongebob mock string generator\"))"
   ]
  }
 ],
 "metadata": {
  "kernelspec": {
   "display_name": "Python 3",
   "language": "python",
   "name": "python3"
  },
  "language_info": {
   "codemirror_mode": {
    "name": "ipython",
    "version": 3
   },
   "file_extension": ".py",
   "mimetype": "text/x-python",
   "name": "python",
   "nbconvert_exporter": "python",
   "pygments_lexer": "ipython3",
   "version": "3.6.3"
  }
 },
 "nbformat": 4,
 "nbformat_minor": 2
}
